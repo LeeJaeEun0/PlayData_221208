{
 "cells": [
  {
   "cell_type": "markdown",
   "id": "3ec80ee8",
   "metadata": {},
   "source": [
    "# 2 자료형"
   ]
  },
  {
   "cell_type": "markdown",
   "id": "f7abc75b",
   "metadata": {},
   "source": [
    "### 2.1 자료형과 문자열\n",
    "1. 문자열 만들기\n",
    "    \"안녕하세요\" , '안녕하세요', \"'좋은 아침입니다!' 오늘도 화이팅\"<br>\n",
    "    이스케이프 문자열 사용하기\n",
    "        \\\" \\' \\n \\t \\\\ \n",
    "    여러줄 문자열 \"\"\" 여기에 입력하세요 \\ \"\"\"  #여기서 \\는 길어서 아래줄에 이어서 쓴다는 의미!\n",
    "2. 문자열 연산자\n",
    "    1. 문자열 연결 연산자 +\n",
    "    2. 문자열 반복 연산자 *\n",
    "    3. 문자 선택 연산자(인덱싱) []\n",
    "    4. 문자열 범위 선택 연산자(슬라이싱) :\n",
    "3. 문자열 길이 구하기\n",
    "    1. len() "
   ]
  },
  {
   "cell_type": "markdown",
   "id": "26f29e82",
   "metadata": {},
   "source": [
    "### 2.2 숫자\n",
    "1. 숫자의 종류\n",
    "    1. int:   정수\n",
    "    2. float: 실수(부동 소수점)\n",
    "2. 숫자 연산자\n",
    "    1. 사칙 연산자: +,-,*,/\n",
    "    2. 정수 나누기 연산자: //\n",
    "    3. 나머지 연산자: %\n",
    "    4. 제곱연산자: **\n",
    "3. 연산자의 우선순위가 있다"
   ]
  },
  {
   "cell_type": "markdown",
   "id": "933b517c",
   "metadata": {},
   "source": [
    "### 2.3 변수와 입력\n",
    "1. 변수 만들기/사용하기\n",
    "    1. 변수를 선언하는 방법: 변수를 사용하겠다고 선언\n",
    "    2. 변수에 값을 할당하는 방법: 변수에 값을 넣는다\n",
    "    3. 변수를 참조하는 방법: 값이 있는 변수를 호출(?)해서 사용한다.\n",
    "2. 복합 대입 연산자\n",
    "    1. +=, -=, *=, /=, %=, **=\n",
    "3. input() - 사용자 입력\n",
    "    1. input()함수로 입력 받은 값은 `문자열` 형태이다\n",
    "    2. 문자열을 숫자로 바꾸려면 int(), float()로 형변환을 해야한다.\n",
    "    3. 숫자를 문자열로 바꾸려면 str()함수를 이용해야한다."
   ]
  },
  {
   "cell_type": "markdown",
   "id": "07c3d342",
   "metadata": {},
   "source": [
    "### 2.4 숫자와 문자열의 다양한 기능\n",
    "1. 문자열의 format() 함수\n",
    "2. 대소문자 바꾸기 upper(), lower()\n",
    "3. 양 옆의 공백 제거하기(다른 문자도 가능) strip(), lstrip(), rstrip()\n",
    "4. 문자열의 구성 파악하기 is~()함수 이용하기 - 결과는 True, Flase로 나타남\n",
    "5. 문자열 찾기 find(), rfind()\n",
    "6. 문자열 in 연산자 - 문자열에 찾고자하는 문자(열)이 있는지 확인 - 결과는 True, Flase로 나타남\n",
    "7. 문자열 자르기 split()"
   ]
  },
  {
   "cell_type": "markdown",
   "id": "b27575a6",
   "metadata": {},
   "source": [
    "format() 함수의 다양한 기능"
   ]
  },
  {
   "cell_type": "code",
   "execution_count": 4,
   "id": "b5af0e18",
   "metadata": {},
   "outputs": [
    {
     "name": "stdout",
     "output_type": "stream",
     "text": [
      "# 기본\n",
      "52\n",
      "# 특정 칸에 출력하기\n",
      "   52\n",
      "        52\n",
      "# 빈칸을 0으로 채우기\n",
      "00052\n",
      "-0052\n"
     ]
    }
   ],
   "source": [
    "# 정수\n",
    "output_a = \"{:d}\".format(52)\n",
    "\n",
    "# 특정 칸에 출력하기\n",
    "output_b = \"{:5d}\".format(52) # 5칸\n",
    "\n",
    "output_c = \"{:10d}\".format(52) # 10칸\n",
    "\n",
    "\n",
    "# 빈칸을 0으로 채우기\n",
    "output_d = \"{:05d}\".format(52) # 양수\n",
    "\n",
    "output_e = \"{:05d}\".format(-52) # 음수\n",
    "\n",
    "print(\"# 기본\")\n",
    "print(output_a)\n",
    "print(\"# 특정 칸에 출력하기\")\n",
    "print(output_b)\n",
    "print(output_c)\n",
    "print(\"# 빈칸을 0으로 채우기\")\n",
    "print(output_d)\n",
    "print(output_e)"
   ]
  },
  {
   "cell_type": "code",
   "execution_count": 6,
   "id": "dc63af1d",
   "metadata": {},
   "outputs": [
    {
     "name": "stdout",
     "output_type": "stream",
     "text": [
      "# 기본\n",
      "+52\n",
      "-52\n",
      " 52\n",
      "-52\n"
     ]
    }
   ],
   "source": [
    "# 기호화 함께 출력하기\n",
    "output_e = \"{:+d}\".format(52)   # 양수\n",
    "output_f = \"{:+d}\".format(-52) # 음수\n",
    "output_g = \"{: d}\".format(52)  # 양수 : 기본 부분 공백\n",
    "output_h = \"{: d}\".format(-52) # 음수 : 기본 부분 공백\n",
    "\n",
    "\n",
    "print(\"# 기본\")\n",
    "print(output_e)\n",
    "print(output_f)\n",
    "print(output_g)\n",
    "print(output_h)"
   ]
  },
  {
   "cell_type": "code",
   "execution_count": 7,
   "id": "8962be63",
   "metadata": {},
   "outputs": [
    {
     "name": "stdout",
     "output_type": "stream",
     "text": [
      "# 기본\n",
      "  +52\n",
      "  -52\n",
      "+  52\n",
      "-  52\n",
      "-0052\n",
      "-0052\n"
     ]
    }
   ],
   "source": [
    "# 기호화 함께 출력하기\n",
    "output_h = \"{:+5d}\".format(52)   # 기호를 뒤로 밀기: 양수\n",
    "output_i = \"{:+5d}\".format(-52)  # 기호를 뒤로 밀기: 음수\n",
    "output_j = \"{:=+5d}\".format(52)  # 기호를 앞으로 밀기: 양수\n",
    "output_k = \"{:=+5d}\".format(-52) # # 기호를 앞으로 밀기: 음수\n",
    "output_l= \"{:+05d}\".format(-52) #  0으로 채우기: 양수\n",
    "output_m = \"{:+05d}\".format(-52) # 0으로 채우기: 음수\n",
    "\n",
    "\n",
    "print(\"# 기본\")\n",
    "print(output_h)\n",
    "print(output_i)\n",
    "print(output_j)\n",
    "print(output_k)\n",
    "print(output_l)\n",
    "print(output_m)"
   ]
  },
  {
   "cell_type": "markdown",
   "id": "f0ba17d8",
   "metadata": {},
   "source": [
    "## 3. 조건문"
   ]
  },
  {
   "cell_type": "markdown",
   "id": "36f63d13",
   "metadata": {},
   "source": [
    "### 3.1 불 자료형과 if 조건문\n",
    "1. 불은 오직 참과 거짓의 값만 가질 수 있습니다.\n",
    "2. 불 만들기: 비교연산자\n",
    "    ==, !=. <, >, <=, >=\n",
    "3. 불 연산하기: and, or, not\n",
    "4. if 조건문 - 조건을 기반으로 흐름이 달라지는 것을 조건 분기라고 한다.\n",
    "5. 날짜와 시간활용하기 - datetime 모듈 이용: datetime.datetime.now()활용"
   ]
  },
  {
   "cell_type": "code",
   "execution_count": 10,
   "id": "58495ecf",
   "metadata": {},
   "outputs": [
    {
     "name": "stdout",
     "output_type": "stream",
     "text": [
      "2022년 12월 5일 18시 6분 0초\n",
      "오후\n"
     ]
    }
   ],
   "source": [
    "import datetime\n",
    "now = datetime.datetime.now()\n",
    "print(\"{}년 {}월 {}일 {}시 {}분 {}초\".format(now.year, now.month, now.day, now.hour, now.minute, now.second))\n",
    "if now.hour < 12:\n",
    "    print(\"오전\")\n",
    "elif now.hour >= 12:\n",
    "    print(\"오후\")\n",
    "# 계절 구분 가능"
   ]
  },
  {
   "cell_type": "markdown",
   "id": "e81f61c5",
   "metadata": {},
   "source": [
    "### 3-2 if~else와 elif 구문\n",
    "1. else 조건문 활용: if 조건이 거짓일 경우 실행된다.\n",
    "2. elif구문: 3개이상의 조건문을 이어서 사용할 때 사용한다.\n",
    "    * elif구문의 경우 위에 있는 조건에 맞지 않는다는 조건을 전제로 사용한다.\n",
    "    if score == 4.5: <br>\n",
    "        print(\"만점\") <br>\n",
    "    elif 4.2 <= score: <br>\n",
    "    이미 4.5보다 작은 점수이다! (본문 예제로 쓰인 4.2<=score<4.5로 쓸 필요가 없다. )\n",
    "3. False로 반환되는 값: None, 숫자 0, 0.0, 빈컨테이너(빈 문자열, 빈리스트, 빈 튜플 등)\n",
    "4. pass 키워드: 나중에 구현하기 위해 넘기는 값\n"
   ]
  },
  {
   "cell_type": "code",
   "execution_count": 14,
   "id": "88958372",
   "metadata": {},
   "outputs": [
    {
     "name": "stdout",
     "output_type": "stream",
     "text": [
      "정수 입력> 123\n",
      "3\n",
      "홀수 입니다.\n"
     ]
    }
   ],
   "source": [
    "# 입력을 받습니다.\n",
    "number = input(\"정수 입력> \")\n",
    "# 마지막 자리 숫자를 추출\n",
    "last_character = number[-1] # 문자열로 입력 받아서 맨뒷자리만 추출0\n",
    "print(last_character)\n",
    "# 숫자로 변환하기\n",
    "last_number = int(last_character)\n",
    "# 짝수 확인\n",
    "if last_number == 0 \\\n",
    "    or last_number ==2\\\n",
    "    or last_number ==4\\\n",
    "    or last_number ==6\\\n",
    "    or last_number ==8:\n",
    "    print(\"짝수 입니다.\")\n",
    "elif last_number == 1\\\n",
    "    or last_number ==3\\\n",
    "    or last_number ==5\\\n",
    "    or last_number ==7\\\n",
    "    or last_number ==9:\n",
    "    print(\"홀수 입니다.\")\n",
    "else:\n",
    "    print(\"오류 --- 발생\")"
   ]
  },
  {
   "cell_type": "code",
   "execution_count": 17,
   "id": "74e1f005",
   "metadata": {},
   "outputs": [
    {
     "name": "stdout",
     "output_type": "stream",
     "text": [
      "정수 입력> 145\n",
      "5\n",
      "홀수 입니다.\n"
     ]
    }
   ],
   "source": [
    "# 입력을 받습니다.\n",
    "number = input(\"정수 입력> \")\n",
    "# 마지막 자리 숫자를 추출\n",
    "last_character = number[-1] # 문자열로 입력 받아서 맨뒷자리만 추출0\n",
    "print(last_character)\n",
    "\n",
    "# 짝수 확인\n",
    "if last_character in \"02468\":\n",
    "    print(\"짝수 입니다.\")\n",
    "elif last_character in \"13579\":\n",
    "    print(\"홀수 입니다.\")\n",
    "else:\n",
    "    print(\"오류 --- 발생\")"
   ]
  },
  {
   "cell_type": "code",
   "execution_count": 18,
   "id": "2875b238",
   "metadata": {},
   "outputs": [
    {
     "name": "stdout",
     "output_type": "stream",
     "text": [
      "정수 입력> 135\n",
      "홀수 입니다.\n"
     ]
    }
   ],
   "source": [
    "# 입력을 받습니다.\n",
    "number = input(\"정수 입력> \")\n",
    "number = int(number)\n",
    "\n",
    "# 짝수 확인\n",
    "if number % 2==0:\n",
    "    print(\"짝수 입니다.\")\n",
    "elif number % 2==1:\n",
    "    print(\"홀수 입니다.\")\n",
    "else:\n",
    "    print(\"오류 --- 발생\")"
   ]
  },
  {
   "cell_type": "markdown",
   "id": "a69bbdcd",
   "metadata": {},
   "source": [
    "## 4. 반복문"
   ]
  },
  {
   "cell_type": "markdown",
   "id": "6e859bc7",
   "metadata": {},
   "source": [
    "### 4.1 리스트\n",
    "1. 리스트는 여러 자료를 저장할 수 있는 자료\n",
    "2. 리스트에 선언하고 요소(element)에 접근하기\n",
    "    1. 인덱스를 사용한다. 리스트명[인덱스 번호]\n",
    "    2. 음수 인덱스를 사용하면 뒤에서 부터 요소를 선택할 수 있다.\n",
    "    3. 리스트 접근 연산자를 이중으로 사용할 수 있다.(2차원 배열처럼 2차원인 경우 - 아래의 예시**)\n",
    "    4. 리스트 안에 리스트를 사용할 수 있다.\n",
    "3. 리스트 연산하기\n",
    "    1. 연결: +\n",
    "    2. 반복 *\n",
    "    3. 길이 len()\n",
    "4. 리스트에 요소 추가하기\n",
    "    1. 리스트명.append(값) - 리스트의 맨 뒤에 추가 \n",
    "    2. 리스트명.insert(위치, 값) - 리스트의 원하는 위치에 값을 추가\n",
    "    3. 리스트.extend([리스트]) - 리스트의 맨 뒤에 새로운 리스트 추가\n",
    "    비파과적 : 리스트에 영향을 주지 않는 연산자 - ex) 리스트 연결 연산자 <br>\n",
    "    파괴적 : 리스트에 영향을 주는 연산자 - ex) isert(), append(), extend([])    \n",
    "5. 리스트 요소 제거하기\n",
    "    1. 인덱스로 삭제하기\n",
    "        1. 리스트명.pop(인덱스)\n",
    "        2. del 리스트명[인덱스]\n",
    "    2. 값으로 삭제하기\n",
    "        remove(값 지정하기)\n",
    "    3. 모두 제거하기\n",
    "        리스트.clear() \n",
    "    4. 리스트 정렬하기\n",
    "        리스트.sort()\n",
    "    5. 리스트 내부에 있는지 확인하기\n",
    "        in/not in 연산자"
   ]
  },
  {
   "cell_type": "code",
   "execution_count": 21,
   "id": "a08cebc1",
   "metadata": {},
   "outputs": [
    {
     "data": {
      "text/plain": [
       "'문'"
      ]
     },
     "execution_count": 21,
     "metadata": {},
     "output_type": "execute_result"
    }
   ],
   "source": [
    "list_a= [273, 32, 103, \"문자열\", True, False]\n",
    "list_a[3][0] # 문자열을 리스트 안의 리스트"
   ]
  },
  {
   "cell_type": "markdown",
   "id": "7cf39768",
   "metadata": {},
   "source": [
    "### 4.2 딕셔너리(키:값)\n",
    "1. 딕셔너리 선언하기 \n",
    "    {키:값,키:값,..}\n",
    "2. 딕셔너리 요소에 접근하기\n",
    "    키 값을 입력해서 접근 할 수 있다.\n",
    "3. 딕셔너리에 값 추가하기/제거하기\n",
    "    딕셔너리[새로운키] = 새로운 값\n",
    "    del 딕셔너리[키 값]으로 삭제\n",
    "4. 딕셔너리 내부에 키가 있는지 확인하기\n",
    "    1. if 딕셔너리 in 키워드 \n",
    "    2. get() 함수"
   ]
  },
  {
   "cell_type": "markdown",
   "id": "d3a961f7",
   "metadata": {},
   "source": [
    "### 4.3 범위 자료형과 while 반복문\n",
    "1. 범위\n",
    "    range(n)          : n-1까지 반복\n",
    "    range(n ,n2)       ; n부터 n2-1까지 반복\n",
    "    range(n, n2, n3)   : n부터 n2-1까지 +n3 하면서 반복\n",
    "2 리스트와 범위 조합하기\n",
    "    for i in 리스트명 : 리스트의 처음부터 끝까지 동안 반복하는 방법\n",
    "3. while문 - 조건 동안 실행하기\n",
    "4. 시간을 기반으로 반복하기:  time모듈 이용\n",
    "5. break와 continue\n",
    "    break는 반복문을 멈춤, 반복문으로 부터 벗어남\n",
    "    continue는 현재 진행하던 숫자(?)+1을 해서 반복문 돌리는 것이다"
   ]
  },
  {
   "cell_type": "code",
   "execution_count": null,
   "id": "90c421d3",
   "metadata": {},
   "outputs": [],
   "source": []
  }
 ],
 "metadata": {
  "kernelspec": {
   "display_name": "Python 3 (ipykernel)",
   "language": "python",
   "name": "python3"
  },
  "language_info": {
   "codemirror_mode": {
    "name": "ipython",
    "version": 3
   },
   "file_extension": ".py",
   "mimetype": "text/x-python",
   "name": "python",
   "nbconvert_exporter": "python",
   "pygments_lexer": "ipython3",
   "version": "3.9.13"
  }
 },
 "nbformat": 4,
 "nbformat_minor": 5
}
