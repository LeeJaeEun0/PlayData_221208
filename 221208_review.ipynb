{
 "cells": [
  {
   "cell_type": "markdown",
   "id": "17dd0161",
   "metadata": {},
   "source": [
    "* Numpy: 다차원 배열 데이터\n",
    "    * 정해진 길이, 정해진 타입, 정수 인덱스\n",
    "    * 벡터화 연산(배열 원소 더하기 등)<-> 리스트 연결, 복사...\n",
    "    * 특정한 배열에 속한 원소들에 대해서 반복적 연산\n",
    "    * 불러언 인덱스 배열 -> 필터링\n",
    "* Pandas: 2차원 배열, 행렬 형태의 딕셔너리 같이 키를 가진 데이터(행과 열 모두 인덱스)\n",
    "    * 엑셀, 표 형태의 일반적으로 볼 수 있는 데이터\n",
    "    * 값들은 배열이다.(열단위의) -> numpy.ndarray\n",
    "    * 값마다 인덱스가 배정 되어있고 반드시 정수일 필요가 없다\n",
    "        * 특정한 값을 붙여주는데 `라벨`이라고 부르며 문자열, 졍수, 시간, 날짜 등\n",
    "            => 인덱서, 인덱싱등 가능하며 호출할 수 있다.\n",
    "    * `라벨` -> 딕셔너리와 유사함. 키를 통해서 데이터 묶음에 특정한 데이터를 CRUD(생성,읽기,수정,삭제)"
   ]
  },
  {
   "cell_type": "markdown",
   "id": "515a505f",
   "metadata": {},
   "source": [
    "## Pands와 Numpy\n",
    "데이터 분석, 특성을 확인하기 위한 작없을 하려면 Pands: 인간이 보기 좋음 (이해, 분석)<br>\n",
    "모델링, 프로그램같이 컴퓨터가 작업을 해주기 위한 형태로 변형하려면 Numpy: 속도가 빠르고, 컴퓨터가 효율적으로 변형, 분석 등을 할 수 있다"
   ]
  },
  {
   "cell_type": "markdown",
   "id": "5b6f0c34",
   "metadata": {},
   "source": [
    "## 시리즈(Series)\n",
    "Serial/Serials -> 연속되어 있음\n",
    "-> 배열(array), 리스트(List)\n",
    "* 이름: 원소들마다 부르는 이름이 있다.\n",
    "* 정수를 인덱스로 쓰거나 키로 값을 부를 수 있다."
   ]
  },
  {
   "cell_type": "markdown",
   "id": "431817a2",
   "metadata": {},
   "source": [
    "pd.Series(...) # 연속된 데이터 묶음<br>\n",
    "리스트, 배열...<br>\n",
    "index : 연속된 데이터 묶음 -> 시리즈 내의 데이터와 매칭이 되는 나열된 이름들\n",
    "index를 넣지 않으면 range,arrang 같이 해당 길이에 맞는 정수 인덱스가 자동으로 부여됨"
   ]
  },
  {
   "cell_type": "code",
   "execution_count": 21,
   "id": "45584992",
   "metadata": {},
   "outputs": [],
   "source": [
    "import pandas as pd # pd\n",
    "import numpy as np"
   ]
  },
  {
   "cell_type": "code",
   "execution_count": 2,
   "id": "18717da3",
   "metadata": {},
   "outputs": [
    {
     "data": {
      "text/plain": [
       "서울    9904312\n",
       "부산    3448737\n",
       "인천    2890451\n",
       "대구    2466052\n",
       "dtype: int64"
      ]
     },
     "execution_count": 2,
     "metadata": {},
     "output_type": "execute_result"
    }
   ],
   "source": [
    "s = pd.Series([9904312, 3448737, 2890451, 2466052], \n",
    "              # 연속된 데이터 묶음 (리스트, 튜플, 1차원 배열...)\n",
    "              index=[\"서울\", \"부산\", \"인천\", \"대구\"]\n",
    "              # 넣어준 데이터의 길이와 일치하는 인덱스 묶음\n",
    "              # 순서대로 짝지어서 데이터가 들어가게 됨\n",
    "              # 인덱스를 안 넣어주면 range 비슷하게 생성 (길이에 맞춰서)\n",
    "              )\n",
    "s"
   ]
  },
  {
   "cell_type": "markdown",
   "id": "b6ade490",
   "metadata": {},
   "source": [
    "#### `s.index` : 시리즈의 인덱스(라벨링 된 이름)\n",
    "#### `s.values` : 시리즈의 값(배열) -> 같은 타입"
   ]
  },
  {
   "cell_type": "code",
   "execution_count": 3,
   "id": "f7a0b275",
   "metadata": {},
   "outputs": [
    {
     "data": {
      "text/plain": [
       "(Index(['서울', '부산', '인천', '대구'], dtype='object'),\n",
       " pandas.core.indexes.base.Index)"
      ]
     },
     "execution_count": 3,
     "metadata": {},
     "output_type": "execute_result"
    }
   ],
   "source": [
    "s.index, type(s.index)"
   ]
  },
  {
   "cell_type": "code",
   "execution_count": 4,
   "id": "76030ce5",
   "metadata": {},
   "outputs": [
    {
     "data": {
      "text/plain": [
       "(array([9904312, 3448737, 2890451, 2466052], dtype=int64), numpy.ndarray)"
      ]
     },
     "execution_count": 4,
     "metadata": {},
     "output_type": "execute_result"
    }
   ],
   "source": [
    "s.values, type(s.values) # numpy.ndarray"
   ]
  },
  {
   "cell_type": "markdown",
   "id": "e26af5b8",
   "metadata": {},
   "source": [
    "#### s.name, s.index.name : 시리즈 이름, 시리즈의 인덱스에 이름을 붙일 수 있다.\n"
   ]
  },
  {
   "cell_type": "markdown",
   "id": "f4948c3e",
   "metadata": {},
   "source": [
    "## 시리즈 연산\n",
    "* Numpy 배열과 유사 -> 벡터화 연산\n",
    "* 연산 자체는 '값'(배열) -> 인덱스(라벨)은 연산 불가!"
   ]
  },
  {
   "cell_type": "markdown",
   "id": "e05ee55c",
   "metadata": {},
   "source": [
    "## 시리즈 인덱싱 & 슬라이싱\n",
    "* 시리즈는 배열, 딕셔너리와 유사함\n",
    "* Numpy 배열에서 전부 사용가능한 인덱스 방법(정수 인덱싱, 배열인덱싱) 전부 사용가능\n",
    "* 인덱스 라벨을 이용한인덱싱 -> 딕셔너리처럼 키로 호출\n",
    "* 인덱싱 가능 -> 슬라이싱 가능\n",
    "* 예제 - 서울, 부산 등 라벨 호출, 0,1,2,.. 처럼 정수 호출도 가능하다"
   ]
  },
  {
   "cell_type": "code",
   "execution_count": 6,
   "id": "45ccf39d",
   "metadata": {},
   "outputs": [
    {
     "data": {
      "text/plain": [
       "(2466052, 2466052)"
      ]
     },
     "execution_count": 6,
     "metadata": {},
     "output_type": "execute_result"
    }
   ],
   "source": [
    "s[3], s['대구']"
   ]
  },
  {
   "cell_type": "code",
   "execution_count": 8,
   "id": "f0d3ca33",
   "metadata": {},
   "outputs": [
    {
     "data": {
      "text/plain": [
       "서울    9904312\n",
       "대구    2466052\n",
       "부산    3448737\n",
       "dtype: int64"
      ]
     },
     "execution_count": 8,
     "metadata": {},
     "output_type": "execute_result"
    }
   ],
   "source": [
    "s[[0, 3, 1]] # 순서를 바꿔서 정수 인덱스로 부르기"
   ]
  },
  {
   "cell_type": "code",
   "execution_count": 9,
   "id": "58615076",
   "metadata": {},
   "outputs": [
    {
     "data": {
      "text/plain": [
       "서울    9904312\n",
       "대구    2466052\n",
       "부산    3448737\n",
       "dtype: int64"
      ]
     },
     "execution_count": 9,
     "metadata": {},
     "output_type": "execute_result"
    }
   ],
   "source": [
    "s[[\"서울\", \"대구\", \"부산\"]] # 순서를 바꿔서 라벨로 부르기"
   ]
  },
  {
   "cell_type": "markdown",
   "id": "e5e119f8",
   "metadata": {},
   "source": [
    "* 벡터화 연산이 가능 = 모든 데이터에 대한 특정 조건 만족여부를 (True/Fale)로 표현 가능\n",
    "* == , >,<, 등 연산의 결과를 불리언 배열로 만들어서 불리언 배열 인덱싱을 통해 시리즈에도 사용 가능"
   ]
  },
  {
   "cell_type": "code",
   "execution_count": 10,
   "id": "b173b70a",
   "metadata": {},
   "outputs": [
    {
     "data": {
      "text/plain": [
       "부산    3448737\n",
       "인천    2890451\n",
       "dtype: int64"
      ]
     },
     "execution_count": 10,
     "metadata": {},
     "output_type": "execute_result"
    }
   ],
   "source": [
    "# 인구가 250만 초과, 500만 미만\n",
    "s[(s > 250e4) & (s < 500e4)] # e='0의 개수'"
   ]
  },
  {
   "cell_type": "markdown",
   "id": "3f7332d3",
   "metadata": {},
   "source": [
    "## 슬라이싱\n",
    "* 라벨 슬라이싱: [\"a\":\"b\"]처럼 범위를 지정했을때 라벨을 통한 슬라이싱에서는 a에서 b까지 포함된다.\n",
    "* 판다스 - 라벨을 통해서 해당 데이터를 속성처럼 호출\n",
    "`series.속성명` -> 해당 라벨을 호출해서 사용할 수 있다."
   ]
  },
  {
   "cell_type": "code",
   "execution_count": 11,
   "id": "eae5c3c7",
   "metadata": {},
   "outputs": [
    {
     "data": {
      "text/plain": [
       "부산    3448737\n",
       "인천    2890451\n",
       "대구    2466052\n",
       "dtype: int64"
      ]
     },
     "execution_count": 11,
     "metadata": {},
     "output_type": "execute_result"
    }
   ],
   "source": [
    "s['부산':'대구'] # 1, 2, 3"
   ]
  },
  {
   "cell_type": "code",
   "execution_count": 12,
   "id": "db193745",
   "metadata": {},
   "outputs": [
    {
     "data": {
      "text/plain": [
       "(3448737, 2466052, 3448737, 2466052)"
      ]
     },
     "execution_count": 12,
     "metadata": {},
     "output_type": "execute_result"
    }
   ],
   "source": [
    "# 몇몇 특수문자나 예약어를 건들이지 않으면 문자열로 .을 통해 속성마냥 인덱스 값에 접근\n",
    "s.부산, s.대구, s['부산'], s['대구']"
   ]
  },
  {
   "cell_type": "markdown",
   "id": "44e45d9c",
   "metadata": {},
   "source": [
    "* 변수명으로 지정할 수 있는 일반적인 (공백없는) 단어들로 구성된 라벨은 시리즈에 .을 통해서 속성으로 호출"
   ]
  },
  {
   "cell_type": "markdown",
   "id": "2c2b1266",
   "metadata": {},
   "source": [
    "## 인덱스 기반(시리즈 간) 연산\n",
    "* 시리즈는 vaule에 한해서 벡터화 연산 할 수 있음\n",
    "* 시리즈들간에도 벡터화 연산을 할 수 있음\n",
    "* 인덱스 라벨이 일치하는 값들에 한해서 시리즈 간 연산\n",
    "* 라벨이 일치 하지 않는다(한쪽 라벨이 비어있다.) -> NaN"
   ]
  },
  {
   "cell_type": "code",
   "execution_count": 14,
   "id": "e5ad7219",
   "metadata": {},
   "outputs": [
    {
     "data": {
      "text/plain": [
       "서울    9631482\n",
       "부산    3393191\n",
       "인천    2632035\n",
       "대전    1490158\n",
       "dtype: int64"
      ]
     },
     "execution_count": 14,
     "metadata": {},
     "output_type": "execute_result"
    }
   ],
   "source": [
    "s2 = pd.Series({\n",
    "    \"서울\": 9631482,\n",
    "    \"부산\": 3393191,\n",
    "    \"인천\": 2632035,\n",
    "    \"대전\": 1490158\n",
    "    }) # 딕셔너리 내부에는 순서 X, 시리즈->순서 보장 \n",
    "s2"
   ]
  },
  {
   "cell_type": "code",
   "execution_count": 15,
   "id": "63c0f224",
   "metadata": {},
   "outputs": [
    {
     "data": {
      "text/plain": [
       "대구         NaN\n",
       "대전         NaN\n",
       "부산     55546.0\n",
       "서울    272830.0\n",
       "인천    258416.0\n",
       "dtype: float64"
      ]
     },
     "execution_count": 15,
     "metadata": {},
     "output_type": "execute_result"
    }
   ],
   "source": [
    "ds = s - s2\n",
    "ds"
   ]
  },
  {
   "cell_type": "markdown",
   "id": "be16e4d3",
   "metadata": {},
   "source": [
    "Nan == Null : series.notnull() → 불리언 배열 값 → 인덱싱 → 비어 있지 않은 값들"
   ]
  },
  {
   "cell_type": "code",
   "execution_count": 16,
   "id": "87065914",
   "metadata": {},
   "outputs": [
    {
     "data": {
      "text/plain": [
       "대구    False\n",
       "대전    False\n",
       "부산     True\n",
       "서울     True\n",
       "인천     True\n",
       "dtype: bool"
      ]
     },
     "execution_count": 16,
     "metadata": {},
     "output_type": "execute_result"
    }
   ],
   "source": [
    "ds.notnull() # null인 데이터들은 False, not null인 데이터들은 True -> 불리언 배열"
   ]
  },
  {
   "cell_type": "code",
   "execution_count": 18,
   "id": "c65ecaa7",
   "metadata": {},
   "outputs": [
    {
     "data": {
      "text/plain": [
       "부산     55546.0\n",
       "서울    272830.0\n",
       "인천    258416.0\n",
       "dtype: float64"
      ]
     },
     "execution_count": 18,
     "metadata": {},
     "output_type": "execute_result"
    }
   ],
   "source": [
    "ds[ds.notnull()]"
   ]
  },
  {
   "cell_type": "markdown",
   "id": "9727fd7e",
   "metadata": {},
   "source": [
    "### 시리즈의 데이터 갱신, 추가, 삭제\n",
    "\n",
    "- 딕셔너리 처럼 인덱싱해서 갱신, 추가, 삭제가 가능하다.\n",
    "     * 새로운 키 값을 주면 해당 키 값에 대해서 새로운 값을 할당, \n",
    "     * 기존에 존재하던 키를 호출한 다음에 수정. \n",
    "     * `del` 로 지워주면 됨\n",
    "- 배열처럼 → 인덱싱해서 → 새롭게 키를 만들어서 처리 X → 배열이니까 # 무슨말? "
   ]
  },
  {
   "cell_type": "markdown",
   "id": "ea491df4",
   "metadata": {},
   "source": [
    "## 데이터프레임 (DataFrame)\n",
    "\n",
    "- 시리즈 : 1차원 배열 데이터 + 행방향 인덱스\n",
    "- 데이터프레임 : 2차원 배열 데이터 + 행방향 인덱스 & 열방향 인덱스\n",
    "행방향 인덱스와 열방향 인덱스를 통해 연산을 할 수 있음"
   ]
  },
  {
   "cell_type": "markdown",
   "id": "b00ce868",
   "metadata": {},
   "source": [
    "### 데이터프레임 생성\n",
    "* 하나의 열이 될 수 있는 데이터 묶음(리스트, 일차원)\n",
    "    + 원하는 만큼의 구성할 열들(각 열마다 다른 데이터타입이 들어갈 수 있다.)\n",
    "* 열의 이름을 키로 기자는 딕셔너리처럼,\n",
    "    키: 연속된 데이터(생성된 타입이 다 동일해야함)\n",
    "- 이 데이터를 `pd.DataFrame(...)`에 넣어서 처리\n",
    "    - 열 방향 인덱스를 넣어주고 싶다 : `pd.DataFrame(columns=...)`\n",
    "    - 행 방향 인덱스를 넣어주고 싶다 :\n",
    "    `pd.DataFrame(index=…)`"
   ]
  },
  {
   "cell_type": "code",
   "execution_count": 19,
   "id": "120a30e8",
   "metadata": {},
   "outputs": [
    {
     "data": {
      "text/html": [
       "<div>\n",
       "<style scoped>\n",
       "    .dataframe tbody tr th:only-of-type {\n",
       "        vertical-align: middle;\n",
       "    }\n",
       "\n",
       "    .dataframe tbody tr th {\n",
       "        vertical-align: top;\n",
       "    }\n",
       "\n",
       "    .dataframe thead th {\n",
       "        text-align: right;\n",
       "    }\n",
       "</style>\n",
       "<table border=\"1\" class=\"dataframe\">\n",
       "  <thead>\n",
       "    <tr style=\"text-align: right;\">\n",
       "      <th></th>\n",
       "      <th>지역</th>\n",
       "      <th>2015</th>\n",
       "      <th>2010</th>\n",
       "      <th>2005</th>\n",
       "      <th>2000</th>\n",
       "      <th>2010-2015 증가율</th>\n",
       "    </tr>\n",
       "  </thead>\n",
       "  <tbody>\n",
       "    <tr>\n",
       "      <th>서울</th>\n",
       "      <td>수도권</td>\n",
       "      <td>9904312</td>\n",
       "      <td>9631482</td>\n",
       "      <td>9762546</td>\n",
       "      <td>9853972</td>\n",
       "      <td>0.0283</td>\n",
       "    </tr>\n",
       "    <tr>\n",
       "      <th>부산</th>\n",
       "      <td>경상권</td>\n",
       "      <td>3448737</td>\n",
       "      <td>3393191</td>\n",
       "      <td>3512547</td>\n",
       "      <td>3655437</td>\n",
       "      <td>0.0163</td>\n",
       "    </tr>\n",
       "    <tr>\n",
       "      <th>인천</th>\n",
       "      <td>수도권</td>\n",
       "      <td>2890451</td>\n",
       "      <td>2632035</td>\n",
       "      <td>2517680</td>\n",
       "      <td>2466338</td>\n",
       "      <td>0.0982</td>\n",
       "    </tr>\n",
       "    <tr>\n",
       "      <th>대구</th>\n",
       "      <td>경상권</td>\n",
       "      <td>2466052</td>\n",
       "      <td>2431774</td>\n",
       "      <td>2456016</td>\n",
       "      <td>2473990</td>\n",
       "      <td>0.0141</td>\n",
       "    </tr>\n",
       "  </tbody>\n",
       "</table>\n",
       "</div>"
      ],
      "text/plain": [
       "     지역     2015     2010     2005     2000  2010-2015 증가율\n",
       "서울  수도권  9904312  9631482  9762546  9853972         0.0283\n",
       "부산  경상권  3448737  3393191  3512547  3655437         0.0163\n",
       "인천  수도권  2890451  2632035  2517680  2466338         0.0982\n",
       "대구  경상권  2466052  2431774  2456016  2473990         0.0141"
      ]
     },
     "execution_count": 19,
     "metadata": {},
     "output_type": "execute_result"
    }
   ],
   "source": [
    "data = {\n",
    "    \"2015\": [9904312, 3448737, 2890451, 2466052],\n",
    "    \"2010\": [9631482, 3393191, 2632035, 2431774],\n",
    "    \"2005\": [9762546, 3512547, 2517680, 2456016],\n",
    "    \"2000\": [9853972, 3655437, 2466338, 2473990],\n",
    "    \"지역\": [\"수도권\", \"경상권\", \"수도권\", \"경상권\"],\n",
    "    \"2010-2015 증가율\": [0.0283, 0.0163, 0.0982, 0.0141]\n",
    "}\n",
    "columns = [\"지역\", \"2015\", \"2010\", \"2005\", \"2000\", \"2010-2015 증가율\"]\n",
    "index = [\"서울\", \"부산\", \"인천\", \"대구\"]\n",
    "df = pd.DataFrame(data, index=index, columns=columns)\n",
    "df"
   ]
  },
  {
   "cell_type": "markdown",
   "id": "9491c362",
   "metadata": {},
   "source": [
    "* df.values # 데이터 (배열)\n",
    "* df.columns # 열 이름들, 컬럼들 (열방향 인덱스)\n",
    "* df.index # 행 이름들, 행방향 인덱스\n",
    "* df.T # 데이터 프레임을 전치(행을 열로, 열을 행으로)"
   ]
  },
  {
   "cell_type": "code",
   "execution_count": 23,
   "id": "09d79a66",
   "metadata": {},
   "outputs": [
    {
     "data": {
      "text/plain": [
       "array([[0, 1],\n",
       "       [2, 3],\n",
       "       [4, 5],\n",
       "       [6, 7],\n",
       "       [8, 9]])"
      ]
     },
     "execution_count": 23,
     "metadata": {},
     "output_type": "execute_result"
    }
   ],
   "source": [
    "arr = np.arange(10).reshape(5, 2)\n",
    "arr"
   ]
  },
  {
   "cell_type": "markdown",
   "id": "8023cd87",
   "metadata": {},
   "source": [
    "#### 전치 이해하기\n",
    "[(0,0),(0,1)]<br><br>\n",
    "[(1.0),(1,1)]<br><br>\n",
    "<hr>\n",
    "0,0 => 0,0<br>\n",
    "0,1 => 1,0<br>\n",
    "1,0 => 0,1<br>\n",
    "1,1 => 1,1<br>"
   ]
  },
  {
   "cell_type": "code",
   "execution_count": 24,
   "id": "db2aa4f4",
   "metadata": {},
   "outputs": [
    {
     "data": {
      "text/plain": [
       "array([[0, 2, 4, 6, 8],\n",
       "       [1, 3, 5, 7, 9]])"
      ]
     },
     "execution_count": 24,
     "metadata": {},
     "output_type": "execute_result"
    }
   ],
   "source": [
    "arr.T"
   ]
  },
  {
   "cell_type": "markdown",
   "id": "857095c2",
   "metadata": {},
   "source": [
    "df[열이름] = 새로운 데이터들 넣을 수 있음"
   ]
  },
  {
   "cell_type": "code",
   "execution_count": 25,
   "id": "96c2b7ac",
   "metadata": {},
   "outputs": [
    {
     "data": {
      "text/html": [
       "<div>\n",
       "<style scoped>\n",
       "    .dataframe tbody tr th:only-of-type {\n",
       "        vertical-align: middle;\n",
       "    }\n",
       "\n",
       "    .dataframe tbody tr th {\n",
       "        vertical-align: top;\n",
       "    }\n",
       "\n",
       "    .dataframe thead th {\n",
       "        text-align: right;\n",
       "    }\n",
       "</style>\n",
       "<table border=\"1\" class=\"dataframe\">\n",
       "  <thead>\n",
       "    <tr style=\"text-align: right;\">\n",
       "      <th></th>\n",
       "      <th>지역</th>\n",
       "      <th>2015</th>\n",
       "      <th>2010</th>\n",
       "      <th>2005</th>\n",
       "      <th>2000</th>\n",
       "      <th>2010-2015 증가율</th>\n",
       "    </tr>\n",
       "  </thead>\n",
       "  <tbody>\n",
       "    <tr>\n",
       "      <th>서울</th>\n",
       "      <td>수도권</td>\n",
       "      <td>9904312</td>\n",
       "      <td>9631482</td>\n",
       "      <td>9762546</td>\n",
       "      <td>9853972</td>\n",
       "      <td>2.83</td>\n",
       "    </tr>\n",
       "    <tr>\n",
       "      <th>부산</th>\n",
       "      <td>경상권</td>\n",
       "      <td>3448737</td>\n",
       "      <td>3393191</td>\n",
       "      <td>3512547</td>\n",
       "      <td>3655437</td>\n",
       "      <td>1.63</td>\n",
       "    </tr>\n",
       "    <tr>\n",
       "      <th>인천</th>\n",
       "      <td>수도권</td>\n",
       "      <td>2890451</td>\n",
       "      <td>2632035</td>\n",
       "      <td>2517680</td>\n",
       "      <td>2466338</td>\n",
       "      <td>9.82</td>\n",
       "    </tr>\n",
       "    <tr>\n",
       "      <th>대구</th>\n",
       "      <td>경상권</td>\n",
       "      <td>2466052</td>\n",
       "      <td>2431774</td>\n",
       "      <td>2456016</td>\n",
       "      <td>2473990</td>\n",
       "      <td>1.41</td>\n",
       "    </tr>\n",
       "  </tbody>\n",
       "</table>\n",
       "</div>"
      ],
      "text/plain": [
       "     지역     2015     2010     2005     2000  2010-2015 증가율\n",
       "서울  수도권  9904312  9631482  9762546  9853972           2.83\n",
       "부산  경상권  3448737  3393191  3512547  3655437           1.63\n",
       "인천  수도권  2890451  2632035  2517680  2466338           9.82\n",
       "대구  경상권  2466052  2431774  2456016  2473990           1.41"
      ]
     },
     "execution_count": 25,
     "metadata": {},
     "output_type": "execute_result"
    }
   ],
   "source": [
    "df['2010-2015 증가율'] = df['2010-2015 증가율'] * 100\n",
    "df # 2010-2015 증가율 키,이름,라벨을 가진 열을 수정(갱신)"
   ]
  },
  {
   "cell_type": "markdown",
   "id": "9cdd6343",
   "metadata": {},
   "source": [
    "### 열 인덱싱 - 정수 값을 넣으면 오류!\n",
    "* 인덱스로 열이름을 넣으면 열의 값이 나온다!\n",
    "* df[열라벨]을 하면 시리즈 형태로 나온다(하나의 열을 전부 보여주는 경우)\n",
    "* df.shape는 (행길이, 열길이) -> 행의 길이\n",
    "* 정수형 인덱스 -> 딕셔너리 키 X -> 에러가 난다\n",
    "* 정수형 인덱스 = 열 라벨의 이름 / 위치? -> 정수형 인덱스\n",
    "* Key Error"
   ]
  },
  {
   "cell_type": "markdown",
   "id": "0437d85a",
   "metadata": {},
   "source": [
    "### 행 인덱싱 - \n",
    "* 범위로 (:) <- 슬라이싱을 한다\n",
    "* df[0:1]# 정수형을 넣게되면 -> 끝점을 제외하고 범위 -> 데이터프레임\n",
    "* df[0:1]\n",
    "* df['서울':'대전']\n",
    "* 문자열을 넣게되면? -> 라벨 인덱싱 -> 끝점 포함"
   ]
  },
  {
   "cell_type": "markdown",
   "id": "08466d3e",
   "metadata": {},
   "source": [
    "### 개별 데이터 인덱싱\n",
    "df['열이름'] # 시리즈 형태로 출력\n",
    "df['열이름']['행이름'] # 개별값"
   ]
  },
  {
   "cell_type": "markdown",
   "id": "64593099",
   "metadata": {},
   "source": [
    "### 데이터 입출력\n",
    "* 데이터를 Pandas에 넣으면 표 형태의 데이터로 나옴\n",
    "* csv - excel 유사해보이는데, 엑셀 -> 서식(꾸며주는 폰트, 포맷...)\n",
    "* excel -> 속도가 느리고 용량이 커요\n",
    "* csv -> 핵심만 남겨서 데이터 자체와, 데이터를 구분해주는 데이터 자체와 데이터를 구분해주는 ,(comma)\n",
    "* comma seperated value \n",
    "* read_xxx / to_xxx\n",
    "* pd.read_csv(...) # 경로, URL\n",
    "* pd.to_csv(...)\n",
    "* pd.read_excel(...) / pd.to_excel(...)"
   ]
  },
  {
   "cell_type": "markdown",
   "id": "24ca0257",
   "metadata": {},
   "source": [
    "df # 읽어와서 무엇부터 볼 것인가?\n",
    "* 데이터의 특성을 보기 위해서 상단 5개? 하단 5개?\n",
    "* df.head()\n",
    "* df.tail()"
   ]
  },
  {
   "cell_type": "markdown",
   "id": "b0f54e44",
   "metadata": {},
   "source": [
    "## 데이터프레임 고급인덱싱(`loc`,`iloc`)\n",
    "* 인덱싱은 특정한 데이터를 고르는 것\n",
    "* 기준 - 라벨 인덱스, 배열 - 정수 인덱스\n",
    "* 기본 인덱싱(`[ ]`): 열(라벨, 라벨리스트), 행(`:`라벨 범위)\n",
    "* Numpy에서 행렬기반으로 인덱싱 <-> Pandas 기본 인덱싱이 매칭이 안됨\n",
    "* (행, 열) → 인덱싱해주고 싶음때 `loc` `iloc`를 사용한다.\n",
    "    * `loc` : 라벨 인덱스 (딕셔너리 키)\n",
    "    * `iloc` : 정수 인덱스 (리스트, 배열에서의 나열된 원소의 위치)\n",
    "* 일반적인 메소드처럼 () 소괄호를 쓰지 X → [] 대괄호를 쓰기 때문에 인덱서(indexer)\n",
    "df.loc[행 인덱싱 값] - 행만 넣어주거나\n",
    "df.loc[행 인덱싱 값, 열 인덱싱 값] - 행, 열을 순서대로 넣고 싶을때\n",
    "* <정수>, 문자열 인덱스 - "
   ]
  },
  {
   "cell_type": "markdown",
   "id": "ab07fd5e",
   "metadata": {},
   "source": [
    "* df.loc[행 인덱싱 값] # 행만 넣어주거나\n",
    "* df.loc[행 인덱싱 값, 열 인덱싱 값]\n",
    "* 행, 열을 순서대로 넣어주거나\n",
    "* <정수>, 문자열 인덱스 # range, arange\n",
    "* 인덱스 데이터 / df.loc['서울'] df.loc[0] <- 행\n",
    "* 인덱스 데이터 슬라이스\n",
    "* df.loc['서울':'부산'] df.loc[0:1] (라벨)\n",
    "* df.loc <- 불리언 배열 인덱싱 (필터링)\n",
    "* df.loc[행] <- df.loc[열...?] # KeyError!!!\n",
    "* df.loc[:,열]\n",
    "* 슬라이싱 -> : (아무것도 안붙은 콜론 : all)\n",
    "* df.loc -> 열만 뽑고 싶다\n",
    "* df.loc[:,열 정보값] = df[열 정보값]"
   ]
  },
  {
   "cell_type": "markdown",
   "id": "5d31c6d0",
   "metadata": {},
   "source": [
    "* <p style=\"color:red\">정수 인덱싱은 끝값 -1</p>\n",
    "* <p style=\"color:red\">라벨 인덱싱은 끝값까지 포함</p>"
   ]
  },
  {
   "cell_type": "markdown",
   "id": "1df378ac",
   "metadata": {},
   "source": [
    "* iloc -> 라벨이 아니라 순서를 나타내는 integer 인덱스 I\n",
    "* loc도 정수를 사용할 순 있음 -> 부여된 정수\n",
    "* loc 정수를 사용할 수 있다 -> 0번자리인데 => 100을 넣을 수있다 = 키값 처럼 익히기\n",
    "* 절대적인 좌표는 변하지는 않지만 부르는 이름은 달라질 수 있음\n",
    "* df.iloc[행 순서 정수 인덱스]\n",
    "* df.iloc[행 순서 정수 인덱스, 열 순서 정수 인덱스]\n",
    "* 슬라이스는 작동하고 -> 슬라이스 넣었을 때 끝 포함 X"
   ]
  },
  {
   "cell_type": "markdown",
   "id": "acd0e43d",
   "metadata": {},
   "source": [
    "## loc와 iloc의 차이\n",
    "* loc는 조건을 넣어서 필터링 할 수 있음\n",
    "* iloc는 배열인덱싱을 할 수 없다."
   ]
  },
  {
   "cell_type": "code",
   "execution_count": null,
   "id": "32dc508f",
   "metadata": {},
   "outputs": [],
   "source": []
  }
 ],
 "metadata": {
  "kernelspec": {
   "display_name": "Python 3 (ipykernel)",
   "language": "python",
   "name": "python3"
  },
  "language_info": {
   "codemirror_mode": {
    "name": "ipython",
    "version": 3
   },
   "file_extension": ".py",
   "mimetype": "text/x-python",
   "name": "python",
   "nbconvert_exporter": "python",
   "pygments_lexer": "ipython3",
   "version": "3.9.13"
  }
 },
 "nbformat": 4,
 "nbformat_minor": 5
}
